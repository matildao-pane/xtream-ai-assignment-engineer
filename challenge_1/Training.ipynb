{
 "cells": [
  {
   "cell_type": "markdown",
   "id": "2b719510",
   "metadata": {},
   "source": [
    "# Xtream AI assignement - Challenge 2\n",
    "\n",
    "## Purpose\n",
    "The outcome of this notebook will be a model that predicts a gem's worth based on its characteristics.\n",
    "\n",
    "## WIP - improvements\n",
    "\n",
    "Notable TODOs:\n",
    "\n"
   ]
  },
  {
   "cell_type": "markdown",
   "id": "f795ca64",
   "metadata": {},
   "source": [
    "\n",
    "## EVALUATION METRICS\n",
    "RMSE\n",
    "plotta grafico con actual vs predicted e riga bisettrice\n",
    "sulla x e la y i prezzi attuali e predetti"
   ]
  },
  {
   "cell_type": "markdown",
   "id": "49e6a1f1",
   "metadata": {},
   "source": [
    "Dataset split to test the performances of the model:\n",
    "\n",
    "- 80% training\n",
    "- 20% test to perform an evaluation that simulated realworld scenarios"
   ]
  },
  {
   "cell_type": "markdown",
   "id": "b370d6ff",
   "metadata": {},
   "source": [
    "for each model you choose to use, correlate the choice based on the data you saw already"
   ]
  }
 ],
 "metadata": {
  "kernelspec": {
   "display_name": "Python 3 (ipykernel)",
   "language": "python",
   "name": "python3"
  },
  "language_info": {
   "codemirror_mode": {
    "name": "ipython",
    "version": 3
   },
   "file_extension": ".py",
   "mimetype": "text/x-python",
   "name": "python",
   "nbconvert_exporter": "python",
   "pygments_lexer": "ipython3",
   "version": "3.10.11"
  }
 },
 "nbformat": 4,
 "nbformat_minor": 5
}
