{
 "cells": [
  {
   "cell_type": "code",
   "execution_count": null,
   "id": "d96a54f3-d9ce-4f7e-aef7-9b5e3b005ab1",
   "metadata": {},
   "outputs": [],
   "source": [
    "## EVALUATION METRICS\n",
    "RMSE\n",
    "plotta grafico con actual vs predicted e riga bisettrice\n",
    "sulla x e la y i prezzi attuali e predetti"
   ]
  },
  {
   "cell_type": "code",
   "execution_count": null,
   "id": "adad526c-c336-4953-83de-7f26e5444bb2",
   "metadata": {},
   "outputs": [],
   "source": [
    "Dataset split to test the performances of the model:\n",
    "\n",
    "- 80% training\n",
    "- 20% test to perform an evaluation that simulated realworld scenarios"
   ]
  },
  {
   "cell_type": "code",
   "execution_count": null,
   "id": "45ebd851-2508-4bc2-b54d-5d216e4001e0",
   "metadata": {},
   "outputs": [],
   "source": []
  }
 ],
 "metadata": {
  "kernelspec": {
   "display_name": "Python 3 (ipykernel)",
   "language": "python",
   "name": "python3"
  },
  "language_info": {
   "codemirror_mode": {
    "name": "ipython",
    "version": 3
   },
   "file_extension": ".py",
   "mimetype": "text/x-python",
   "name": "python",
   "nbconvert_exporter": "python",
   "pygments_lexer": "ipython3",
   "version": "3.10.11"
  }
 },
 "nbformat": 4,
 "nbformat_minor": 5
}
